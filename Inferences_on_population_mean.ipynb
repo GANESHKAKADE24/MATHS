{
 "cells": [
  {
   "cell_type": "code",
   "execution_count": 4,
   "metadata": {},
   "outputs": [],
   "source": [
    "'''\n",
    "Import here useful libraries\n",
    "Run this cell first for convenience\n",
    "'''\n",
    "import numpy as np\n",
    "import pandas as pd\n",
    "import matplotlib.pyplot as plt\n",
    "from scipy import stats\n",
    "import statsmodels.stats.weightstats as sms\n",
    "from scipy.stats import t\n",
    "import math\n"
   ]
  },
  {
   "cell_type": "markdown",
   "metadata": {},
   "source": [
    "# Inferences on a Population Mean"
   ]
  },
  {
   "cell_type": "markdown",
   "metadata": {},
   "source": [
    "## Confidence Intervals"
   ]
  },
  {
   "cell_type": "markdown",
   "metadata": {},
   "source": [
    "- A confidence interval for an unknown parameter θ is an interval that\n",
    "contains a set of plausible values of the parameter\n",
    "- It is associated with a confidence level 1 - α, which measures the\n",
    "probability that the confidence interval actually contains the unknown\n",
    "parameter value\n",
    "- Inference methods on a population mean based upon the t-procedure\n",
    "are appropriate for large sample sizes n ≥ 30 and also for small\n",
    "sample sizes as long as the data can reasonably be taken to be\n",
    "approximately normally distributed"
   ]
  },
  {
   "cell_type": "markdown",
   "metadata": {},
   "source": [
    "### Two-sided t-Interval\n",
    "- A confidence interval with confidence level 1 − α for a\n",
    "population mean $\\mu$ based upon a sample of n continuous data\n",
    "observations with a sample mean $x$ and a sample standard\n",
    "deviation $S$ is\n",
    "$$\\left( \\bar{x} - \\frac{t_{\\alpha/2, n-1} S}{\\sqrt{n}}, \\bar{x} + \\frac{t_{\\alpha/2, n-1} S}{\\sqrt{n}} \\right)$$\n",
    "where\n",
    "$$T = \\frac{\\bar{X} - \\mu}{S/\\sqrt{n}} \\sim t_{n-1}$$\n",
    "- The central limit theorem ensures that the distribution of X is approximately normal for large sample sizes\n",
    "\n",
    "\n",
    "Requirements: \n",
    "\n",
    "- Continuous data set, length = $n$\n",
    "- Sample mean $\\bar{x}$\n",
    "- Sample standard $s$\n",
    "- **N.B.** Real standard deviation is UNKNOWN. \n",
    "\n",
    "Real mean $\\mu$ $1-\\alpha$ confidence interval would be \n",
    "\n",
    "$$\\left( \\bar{x} - \\frac{t_{\\alpha/2, n-1} S}{\\sqrt{n}}, \\bar{x} + \\frac{t_{\\alpha/2, n-1} S}{\\sqrt{n}} \\right)$$\n",
    "\n",
    "T distribution:\n",
    "\n",
    "$$T = \\frac{\\bar{X} - \\mu}{S/\\sqrt{n}} \\sim t_{n-1}$$"
   ]
  },
  {
   "cell_type": "markdown",
   "metadata": {},
   "source": [
    "### Interval length\n",
    "$$L = 2 \\times \\frac{t_{\\alpha/2, n-1} S}{\\sqrt{n}}$$\n",
    "If we want to know the interval length smaller than a certain amount, we need at least $n$ samples:\n",
    "$$n \\geq 4 \\times \\frac{t_{\\alpha/2, n-1}^2 S^2}{L_0^2}$$"
   ]
  },
  {
   "cell_type": "markdown",
   "metadata": {},
   "source": [
    "- One-Sided t-Interval: One-sided confidence intervals with\n",
    "confidence levels 1-α for a population mean $\\mu$:\n",
    "$$\\left( -\\infty, \\bar{x} + \\frac{t_{\\alpha, n-1} S}{\\sqrt{n}} \\right)$$\n",
    "for a lower bound and\n",
    "$$\\left( \\bar{x} + \\frac{t_{\\alpha, n-1} S}{\\sqrt{n}}, \\infty \\right)$$\n",
    "for an upper bound"
   ]
  },
  {
   "cell_type": "code",
   "execution_count": 12,
   "metadata": {},
   "outputs": [
    {
     "name": "stdout",
     "output_type": "stream",
     "text": [
      "t-statistics t = -3.7060\n",
      "Confidence interval with 99% confidence level: (-∞)(9.7893)\n"
     ]
    }
   ],
   "source": [
    "n = 40\n",
    "x_bar = 9.39\n",
    "mu_0 = 10\n",
    "s = 1.041\n",
    "alpha = 0.01\n",
    "t_stat = math.sqrt(n)*(x_bar - mu_0)/s\n",
    "crit = t.ppf(1-alpha, n-1)\n",
    "wing_span = crit*s/(math.sqrt(n))\n",
    "print((\"t-statistics t = {:.4f}\").format(t_stat))\n",
    "print((\"Confidence interval with 99% confidence level: (-∞)({:.4f})\").format(x_bar+wing_span))"
   ]
  },
  {
   "cell_type": "code",
   "execution_count": 5,
   "metadata": {},
   "outputs": [
    {
     "name": "stdout",
     "output_type": "stream",
     "text": [
      "T Statistics Value\t1.6711\n",
      "Interval Length\t\t0.0578\n",
      "Confidece Interval\t(49.9710, 50.0288)\n"
     ]
    }
   ],
   "source": [
    "# Two-sided t-interval\n",
    "\n",
    "# Input\n",
    "n = 60\n",
    "s = 0.134\n",
    "x_bar = 49.9999\n",
    "alpha = 0.1\n",
    "\n",
    "# Calculate\n",
    "t = stats.t.ppf(1 - alpha / 2, n - 1)\n",
    "wing = t * s / math.sqrt(n)\n",
    "\n",
    "# Output\n",
    "print('T Statistics Value\\t{:.4f}'.format(t))\n",
    "print('Interval Length\\t\\t{:.4f}'.format(2 * wing))\n",
    "print('Confidece Interval\\t({:.4f}, {:.4f})'.format(x_bar - wing, x_bar + wing))"
   ]
  },
  {
   "cell_type": "markdown",
   "metadata": {},
   "source": [
    "### One-sided t-interval\n",
    "\n",
    "Real mean $\\mu$ with $1-\\alpha$ confidence interval would be\n",
    "\n",
    "$$\\left( -\\infty, \\bar{x} + \\frac{t_{\\alpha, n-1} S}{\\sqrt{n}} \\right)$$\n",
    "\n",
    "$$\\left( \\bar{x} - \\frac{t_{\\alpha, n-1} S}{\\sqrt{n}}, +\\infty \\right)$$"
   ]
  },
  {
   "cell_type": "code",
   "execution_count": 6,
   "metadata": {},
   "outputs": [
    {
     "name": "stdout",
     "output_type": "stream",
     "text": [
      "T Statistics Value\t1.2961\n",
      "----- Upper Bound -----\n",
      "Confidece Interval\t(-inf, 50.0223)\n",
      "----- Lower Bound -----\n",
      "Confidece Interval\t(49.9775, +inf)\n"
     ]
    }
   ],
   "source": [
    "# One-sided t-interval\n",
    "\n",
    "# Input\n",
    "n = 60\n",
    "s = 0.134\n",
    "x_bar = 49.9999\n",
    "alpha = 0.1\n",
    "\n",
    "# Calculate\n",
    "t = stats.t.ppf(1 - alpha, n - 1)\n",
    "wing = t * s / math.sqrt(n)\n",
    "\n",
    "# Output\n",
    "print('T Statistics Value\\t{:.4f}'.format(t))\n",
    "print('----- Upper Bound -----')\n",
    "print('Confidece Interval\\t(-inf, {:.4f})'.format(x_bar + wing))\n",
    "print('----- Lower Bound -----')\n",
    "print('Confidece Interval\\t({:.4f}, +inf)'.format(x_bar - wing))"
   ]
  },
  {
   "cell_type": "markdown",
   "metadata": {},
   "source": [
    "### Z-intervals"
   ]
  },
  {
   "cell_type": "markdown",
   "metadata": {},
   "source": [
    "If we want to construct a confidence interval with a **known** value for the population standard deviation $\\sigma$, then we have\n",
    "$$\\left( \\bar{x} - z_{\\alpha/2}\\frac{\\sigma}{\\sqrt{n}}, \\bar{x} + z_{\\alpha/2}\\frac{\\sigma}{\\sqrt{n}} \\right)$$\n",
    "\n",
    "\n",
    "\n",
    "\n",
    "Real mean $\\mu$ with $1-\\alpha$ confidence interval would be \n",
    "\n",
    "$$\\left( \\bar{x} - \\frac{z_{\\alpha/2,} \\sigma}{\\sqrt{n}}, \\bar{x} + \\frac{z_{\\alpha/2} \\sigma}{\\sqrt{n}} \\right)$$"
   ]
  },
  {
   "cell_type": "code",
   "execution_count": 13,
   "metadata": {},
   "outputs": [
    {
     "name": "stdout",
     "output_type": "stream",
     "text": [
      "z = 1.6449\n"
     ]
    }
   ],
   "source": [
    "\"\"\"Example: 𝑧_0.05\"\"\"\n",
    "d = stats.norm()\n",
    "print((\"z = {:.4f}\").format(d.ppf(0.95)))"
   ]
  },
  {
   "cell_type": "code",
   "execution_count": 7,
   "metadata": {},
   "outputs": [
    {
     "name": "stdout",
     "output_type": "stream",
     "text": [
      "T Statistics Value\t1.6449\n",
      "Interval Length\t\t0.0569\n",
      "Confidece Interval\t(49.9714, 50.0284)\n"
     ]
    }
   ],
   "source": [
    "# Two-sided z-interval\n",
    "\n",
    "# Input\n",
    "n = 60\n",
    "sigma = 0.134\n",
    "x_bar = 49.9999\n",
    "alpha = 0.1\n",
    "\n",
    "# Calculate\n",
    "z = stats.norm.ppf(1 - alpha / 2)\n",
    "wing = z * sigma / math.sqrt(n)\n",
    "\n",
    "# Output\n",
    "print('T Statistics Value\\t{:.4f}'.format(z))\n",
    "print('Interval Length\\t\\t{:.4f}'.format(2 * wing))\n",
    "print('Confidece Interval\\t({:.4f}, {:.4f})'.format(x_bar - wing, x_bar + wing))"
   ]
  },
  {
   "cell_type": "code",
   "execution_count": 8,
   "metadata": {},
   "outputs": [
    {
     "name": "stdout",
     "output_type": "stream",
     "text": [
      "T Statistics Value\t1.2961\n",
      "----- Upper Bound -----\n",
      "Confidece Interval\t(-inf, 50.0223)\n",
      "----- Lower Bound -----\n",
      "Confidece Interval\t(49.9775, +inf)\n"
     ]
    }
   ],
   "source": [
    "# One-sided t-interval\n",
    "\n",
    "# Input\n",
    "n = 60\n",
    "sigma = 0.134\n",
    "x_bar = 49.9999\n",
    "alpha = 0.1\n",
    "\n",
    "# Calculate\n",
    "z = stats.norm.ppf(1 - alpha, n - 1)\n",
    "wing = t * sigma / math.sqrt(n)\n",
    "\n",
    "# Output\n",
    "print('T Statistics Value\\t{:.4f}'.format(t))\n",
    "print('----- Upper Bound -----')\n",
    "print('Confidece Interval\\t(-inf, {:.4f})'.format(x_bar + wing))\n",
    "print('----- Lower Bound -----')\n",
    "print('Confidece Interval\\t({:.4f}, +inf)'.format(x_bar - wing))"
   ]
  },
  {
   "cell_type": "markdown",
   "metadata": {},
   "source": [
    "## Hypothesis testing\n",
    "- A null hypothesis H 0 for a population mean $\\mu$ is a statement that\n",
    "designates possible values for the population mean.\n",
    "- It is associated with an alternative hypothesis $HA0$ , which is the\n",
    "“opposite” of the null hypothesis."
   ]
  },
  {
   "cell_type": "markdown",
   "metadata": {},
   "source": [
    "### Two-sided set of hypotheses\n",
    "- $H_0: \\mu = \\mu_0$ versus $H_A: \\mu \\neq \\mu_0$\n",
    "### One-sided set of hypoteses\n",
    "Can be either:\n",
    "- $H_0: \\mu \\leq \\mu_0$ versus $H_A: \\mu > \\mu_0$\n",
    "    - or\n",
    "- $H_0: \\mu \\geq \\mu_0$ versus $H_A: \\mu < \\mu_0$\n"
   ]
  },
  {
   "cell_type": "markdown",
   "metadata": {},
   "source": [
    "## Interpretation of $p$-values"
   ]
  },
  {
   "cell_type": "markdown",
   "metadata": {},
   "source": [
    "### Types of error\n",
    "- Type I error: An error committed by rejecting the null hypothesis\n",
    "when it is true.\n",
    "- Type II error: An error committed by accepting the null\n",
    "hypothesis when it is false."
   ]
  },
  {
   "cell_type": "markdown",
   "metadata": {},
   "source": [
    "### Significance level\n",
    "- is specified as the upper bound of the probability of type I error."
   ]
  },
  {
   "cell_type": "markdown",
   "metadata": {},
   "source": [
    "### $p$-values of a test\n",
    "- The p-value of a test is the probability of obtaining a given\n",
    "data set or worse when the null hypothesis is true.\n",
    "A data set can be used to measure the plausibility of null hypothesis $H_0$\n",
    "through the construction of a $p$-value.\n",
    "- The smaller the $p$-value, the less plausible is the null hypothesis."
   ]
  },
  {
   "cell_type": "markdown",
   "metadata": {},
   "source": [
    "### Rejection and acceptance of the Null Hypothesis\n",
    "- Rejection: $p$-value is smaller than the significance level, then $H_0$ is rejected\n",
    "- Acceptance: $p$-value larger than the significance level, then $H_0$ is plausible"
   ]
  },
  {
   "cell_type": "markdown",
   "metadata": {},
   "source": [
    "## Calculation of $p$-values\n",
    "where\n",
    "$$T = \\frac{\\bar{X} - \\mu}{S/\\sqrt{n}} \\sim t_{n-1} $$"
   ]
  },
  {
   "cell_type": "markdown",
   "metadata": {},
   "source": [
    "### Two-sided t-test\n",
    "If we test\n",
    "$H_0: \\mu = \\mu_0$ versus $H_A: \\mu \\neq \\mu_0$\n",
    "then \n",
    "- $p$-value = $2 \\times P(T \\geq \\mid t \\mid)$"
   ]
  },
  {
   "cell_type": "code",
   "execution_count": 9,
   "metadata": {},
   "outputs": [
    {
     "name": "stdout",
     "output_type": "stream",
     "text": [
      "t-statistics T = -3.0608\n",
      "P-value = 0.0044\n"
     ]
    }
   ],
   "source": [
    "\"\"\"𝐻0:𝜇=385, 𝐻𝐴:𝜇≠385\"\"\"\n",
    "n = 33\n",
    "x_bar = 382.97\n",
    "mu_0 = 385\n",
    "s = 3.81\n",
    "alpha = 0.01\n",
    "t_stat = math.sqrt(n)*(x_bar - mu_0)/s\n",
    "print((\"t-statistics T = {:.4f}\").format(t_stat))\n",
    "print((\"P-value = {:.4f}\").format(2*t.sf(abs(t_stat), n-1)))"
   ]
  },
  {
   "cell_type": "code",
   "execution_count": 9,
   "metadata": {},
   "outputs": [
    {
     "name": "stdout",
     "output_type": "stream",
     "text": [
      "P-Value\t0.9336\n"
     ]
    }
   ],
   "source": [
    "# Two-sided t-test\n",
    "\n",
    "# Input\n",
    "n = 60\n",
    "s = 0.1334\n",
    "x_bar = 49.99856\n",
    "mu_0 = 50\n",
    "\n",
    "# Calculate\n",
    "t = (x_bar - mu_0) / (s / math.sqrt(n))\n",
    "p_value = 2 * stats.t.sf(abs(t), n - 1)\n",
    "\n",
    "# Outpu \n",
    "print('P-Value\\t{:.4f}'.format(p_value))"
   ]
  },
  {
   "cell_type": "markdown",
   "metadata": {},
   "source": [
    "### One-sided t-test\n",
    "If we test\n",
    "$H_0: \\mu \\leq \\mu_0$ versus $H_A: \\mu > \\mu_0$\n",
    "then \n",
    "- $p$-value = $P(T \\geq t)$n = 40\n",
    "\n",
    "If we test\n",
    "$H_0: \\mu \\geq \\mu_0$ versus $H_A: \\mu < \\mu_0$\n",
    "then \n",
    "- $p$-value = $P(T \\leq t)$\n"
   ]
  },
  {
   "cell_type": "code",
   "execution_count": 12,
   "metadata": {},
   "outputs": [
    {
     "name": "stdout",
     "output_type": "stream",
     "text": [
      "t-statistics T = -3.7060\n",
      "P-Value\t0.5331\n"
     ]
    }
   ],
   "source": [
    "\"\"\"𝐻0:𝜇≥10, 𝐻𝐴:𝜇<10\"\"\"\n",
    "n = 40\n",
    "x_bar = 9.39\n",
    "mu_0 = 10\n",
    "s = 1.041\n",
    "alpha = 0.01\n",
    "t_stat = math.sqrt(n)*(x_bar - mu_0)/s\n",
    "print((\"t-statistics T = {:.4f}\").format(t_stat))\n",
    "p_value = stats.t.cdf(abs(t), n - 1)\n",
    "\n",
    "# Output \n",
    "print('P-Value\\t{:.4f}'.format(p_value))"
   ]
  },
  {
   "cell_type": "code",
   "execution_count": 11,
   "metadata": {},
   "outputs": [
    {
     "name": "stdout",
     "output_type": "stream",
     "text": [
      "P-Value\t0.5332\n"
     ]
    }
   ],
   "source": [
    "# One-sided t-test\n",
    "\n",
    "# Input\n",
    "n = 60\n",
    "s = 0.1334\n",
    "x_bar = 49.99856\n",
    "mu_0 = 50\n",
    "\n",
    "# Calculate\n",
    "t = (x_bar - mu_0) / (s / math.sqrt(n))\n",
    "p_value = stats.t.cdf(abs(t), n - 1)\n",
    "\n",
    "# Outpu \n",
    "print('P-Value\\t{:.4f}'.format(p_value))"
   ]
  },
  {
   "cell_type": "markdown",
   "metadata": {},
   "source": [
    "### Significance level of size $\\alpha$\n",
    "A hypothesis test with a significance level of size α\n",
    "- rejects the null hypothesis $H_0$ if a p-value smaller than α is\n",
    "obtained\n",
    "- accepts the null hypothesis $H_0$ if a p-value larger than α is\n",
    "obtained."
   ]
  },
  {
   "cell_type": "markdown",
   "metadata": {},
   "source": [
    "### Two-sided problems\n",
    "A size $\\alpha$ test for $H_0: \\mu = \\mu_0$ versus $H_A: \\mu \\neq \\mu_0$\n",
    "reject $H_0$ if the test statistics is in the **rejection region**\n",
    "$$R = [t: \\mid t \\mid > t_{\\alpha/2, n-1}]$$\n",
    "and accepts if in the **acceptance region**\n",
    "$$A = [t: \\mid t \\mid \\leq t_{\\alpha/2, n-1}]$$"
   ]
  },
  {
   "cell_type": "markdown",
   "metadata": {},
   "source": [
    "### One-sided problems\n",
    "A size $\\alpha$ test for $H_0: \\mu \\geq \\mu_0$ versus $H_A: \\mu < \\mu_0$\n",
    "rejects $H_0$ if the test statistics is in the **rejection region**\n",
    "$$R = [t:  t < - t_{\\alpha, n-1}]$$\n",
    "and accepts if in the **acceptance region**\n",
    "$$A = [t: t \\geq - t_{\\alpha, n-1}]$$"
   ]
  },
  {
   "cell_type": "code",
   "execution_count": 16,
   "metadata": {},
   "outputs": [
    {
     "name": "stdout",
     "output_type": "stream",
     "text": [
      "Critical point when α/2 = 0.05 = 1.7291\n",
      "Critical point when α/2 = 0.005 = 2.8609\n",
      "p-value = 0.0245\n"
     ]
    }
   ],
   "source": [
    "\"\"\"t =  2.4428\"\"\"\n",
    "print((\"Critical point when α/2 = 0.05 = {:.4f}\").format(stats.t.ppf(0.95, 19)))\n",
    "print((\"Critical point when α/2 = 0.005 = {:.4f}\").format(stats.t.ppf(0.995, 19)))\n",
    "# So the null hypotesis is rejected at size  𝛼=0.10  and accepted for  𝛼=0.01\n",
    "# To verify, we can use the p-value\n",
    "print((\"p-value = {:.4f}\").format(2*stats.t.sf(2.4428, 19)))"
   ]
  },
  {
   "cell_type": "code",
   "execution_count": 14,
   "metadata": {},
   "outputs": [
    {
     "name": "stdout",
     "output_type": "stream",
     "text": [
      "Acceptance Region\t(49.9698, 50.0273)\n"
     ]
    }
   ],
   "source": [
    "# Two-sided acceptance region\n",
    "\n",
    "# Input\n",
    "n = 60\n",
    "s = 0.1334\n",
    "x_bar = 49.99856\n",
    "mu_0 = 50\n",
    "alpha = 0.1\n",
    "\n",
    "# Calculate \n",
    "t = stats.t.ppf(1 - alpha / 2, n - 1)\n",
    "wing = t * (s / math.sqrt(n))\n",
    "\n",
    "# Output\n",
    "print('Acceptance Region\\t({:.4f}, {:.4f})'.format(x_bar - wing, x_bar + wing))"
   ]
  },
  {
   "cell_type": "code",
   "execution_count": 17,
   "metadata": {},
   "outputs": [
    {
     "name": "stdout",
     "output_type": "stream",
     "text": [
      "Acceptance Region\t(-inf, 50.0209)\n"
     ]
    }
   ],
   "source": [
    "# One-sided acceptance region\n",
    "\n",
    "# Input\n",
    "n = 60\n",
    "s = 0.1334\n",
    "x_bar = 49.99856\n",
    "mu_0 = 50\n",
    "alpha = 0.1\n",
    "\n",
    "# Calculate \n",
    "t = stats.t.ppf(1 - alpha, n - 1)\n",
    "wing = t * (s / math.sqrt(n))\n",
    "\n",
    "# Output\n",
    "print('Acceptance Region\\t(-inf, {:.4f})'.format(x_bar + wing))"
   ]
  },
  {
   "cell_type": "markdown",
   "metadata": {},
   "source": [
    "## $z$-tests "
   ]
  },
  {
   "cell_type": "markdown",
   "metadata": {},
   "source": [
    "- We test similarly to the t-statistics, but with data with sample size $n$ from $N(\\mu, \\sigma^2)$ assuming $\\sigma$ is known\n",
    "- The Z-statistics is given by:\n",
    "$$Z = \\frac{ \\bar{X} - \\mu_0}{\\sigma / \\sqrt{n}}$$"
   ]
  },
  {
   "cell_type": "code",
   "execution_count": 18,
   "metadata": {},
   "outputs": [
    {
     "name": "stdout",
     "output_type": "stream",
     "text": [
      "P-Value\t2.0000\n"
     ]
    }
   ],
   "source": [
    "# Two-sided z-test\n",
    "\n",
    "# Input\n",
    "n = 60\n",
    "sigma = 0.1334\n",
    "x_bar = 49.99856\n",
    "mu_0 = 50\n",
    "\n",
    "# Calculate\n",
    "t = (x_bar - mu_0) / (sigma / math.sqrt(n))\n",
    "p_value = 2 * stats.norm.sf(abs(t), n - 1)\n",
    "\n",
    "# Outpu \n",
    "print('P-Value\\t{:.4f}'.format(p_value))"
   ]
  },
  {
   "cell_type": "code",
   "execution_count": 19,
   "metadata": {},
   "outputs": [
    {
     "name": "stdout",
     "output_type": "stream",
     "text": [
      "P-Value\t0.0000\n"
     ]
    }
   ],
   "source": [
    "# One-sided z-test\n",
    "\n",
    "# Input\n",
    "n = 60\n",
    "sigma = 0.1334\n",
    "x_bar = 49.99856\n",
    "mu_0 = 50\n",
    "\n",
    "# Calculate\n",
    "t = (x_bar - mu_0) / (sigma / math.sqrt(n))\n",
    "p_value = stats.norm.cdf(abs(t), n - 1)\n",
    "\n",
    "# Outpu \n",
    "print('P-Value\\t{:.4f}'.format(p_value))"
   ]
  },
  {
   "cell_type": "markdown",
   "metadata": {},
   "source": [
    "## Power of a hypothesis test\n",
    "- Definition: \n",
    "    - power = 1 - P(Type II error $\\mid H_A$)\n",
    "    \n",
    "which is the probability that the null hypothesis is rejected when\n",
    "it is false."
   ]
  },
  {
   "cell_type": "markdown",
   "metadata": {},
   "source": [
    "### Computation of the power of a hypothesis test\n",
    "We want to test $H_0: \\mu = \\mu_0$ vs $H_A: \\mu \\neq \\mu_0$ with significance level $\\alpha$. We assume a sample size $n$ from $N(\\mu, \\sigma^2)$\n",
    "\n",
    "If $\\mu = \\mu^* > \\mu_0, \\beta (\\mu^*) \\Longrightarrow \\beta (\\mu^*) = 1 - P_{\\mu = \\mu^*} ( \\mid Z \\mid \\leq z_{\\alpha/2} )$"
   ]
  },
  {
   "cell_type": "markdown",
   "metadata": {},
   "source": [
    "### Determination of sample size in hypotheses testing\n",
    "- Find $n$ for which $\\beta (\\mu^*) = \\beta^*$ with $\\mu^* > \\mu_0$\n",
    "\n",
    "$$\\sqrt{n} \\approx \\sigma \\frac{ z_{\\alpha / 2} - z_{\\beta^*}}{ \\mu^* - \\mu_0}$$ \n",
    "\n",
    "When $\\mu^* \\rightarrow \\mu_0$, we need more samples"
   ]
  }
 ],
 "metadata": {
  "kernelspec": {
   "display_name": "Python 3 (ipykernel)",
   "language": "python",
   "name": "python3"
  },
  "language_info": {
   "codemirror_mode": {
    "name": "ipython",
    "version": 3
   },
   "file_extension": ".py",
   "mimetype": "text/x-python",
   "name": "python",
   "nbconvert_exporter": "python",
   "pygments_lexer": "ipython3",
   "version": "3.10.6"
  }
 },
 "nbformat": 4,
 "nbformat_minor": 4
}
