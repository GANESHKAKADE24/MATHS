{
 "cells": [
  {
   "cell_type": "code",
   "execution_count": 1,
   "metadata": {},
   "outputs": [],
   "source": [
    "'''\n",
    "Import here useful libraries\n",
    "Run this cell first for convenience\n",
    "'''\n",
    "import numpy as np\n",
    "from scipy import stats\n",
    "import scipy\n",
    "import warnings\n",
    "warnings.simplefilter('ignore', DeprecationWarning)"
   ]
  },
  {
   "cell_type": "markdown",
   "metadata": {},
   "source": [
    "# Statistical Estimation and Sampling Distributions"
   ]
  },
  {
   "cell_type": "markdown",
   "metadata": {},
   "source": [
    "## Point estimates"
   ]
  },
  {
   "cell_type": "markdown",
   "metadata": {},
   "source": [
    "### Parameters"
   ]
  },
  {
   "cell_type": "markdown",
   "metadata": {},
   "source": [
    "- Parameters: term used in statistical inference for a quantity $\\theta$ determining the shape of an unknown probabiity distribution\n",
    "    - Goal: estimate the unknown parameters to obtain the distribution"
   ]
  },
  {
   "cell_type": "markdown",
   "metadata": {},
   "source": [
    "### Statistics"
   ]
  },
  {
   "cell_type": "markdown",
   "metadata": {},
   "source": [
    "- Statistic: function of a random sample (e.g. sample mean, variance, quantile...)\n",
    "- Statistics are random variables whose observed values can be calculated from a set of observed data"
   ]
  },
  {
   "cell_type": "markdown",
   "metadata": {},
   "source": [
    "### Estimation"
   ]
  },
  {
   "cell_type": "markdown",
   "metadata": {},
   "source": [
    "- Estimation: procedure of \"guessing\" properties of the population from which data are collected\n",
    "- Point estimate: statistic $\\hat{\\theta}$ representing a \"best guess\" of the real $\\theta$ value"
   ]
  },
  {
   "cell_type": "markdown",
   "metadata": {},
   "source": [
    "## Properties of Point Estimates"
   ]
  },
  {
   "cell_type": "markdown",
   "metadata": {},
   "source": [
    "### Unbiased Estimates"
   ]
  },
  {
   "cell_type": "markdown",
   "metadata": {},
   "source": [
    "- Unbiased point estimate: a $\\hat{\\theta}$ for a parameter $\\theta$ satisfying:\n",
    "\\begin{equation}\n",
    "    E(\\hat{\\theta}) = \\theta\n",
    "\\end{equation}\n",
    "- Bias definition:\n",
    "\\begin{equation}\n",
    "    bias(\\hat{\\theta}) = E(\\hat{\\theta})-\\theta\n",
    "\\end{equation}\n"
   ]
  },
  {
   "cell_type": "markdown",
   "metadata": {},
   "source": [
    "- Point estimate of a population mean: given a random sample $X_1, \\cdots, X_n$ from a distribution with mean $\\mu$, the sample mean $\\bar{X}$ is an unbiased estimate of $\\mu$\n",
    "- Point  estimate of a population variance: given a random sample $X_1, \\cdots, X_n$ from a distribution with variance $\\sigma ^2$, the sample variance $S ^2$ is an unbiased estimate of $\\sigma ^2$"
   ]
  },
  {
   "cell_type": "markdown",
   "metadata": {},
   "source": [
    "### Minimum Variance Estimates"
   ]
  },
  {
   "cell_type": "markdown",
   "metadata": {},
   "source": [
    "- Minimum variance unbiased estimate: unbiased point estimate whose variance is smaller than any other unbiased point estimate\n"
   ]
  },
  {
   "cell_type": "markdown",
   "metadata": {},
   "source": [
    "### Relative efficiency"
   ]
  },
  {
   "cell_type": "markdown",
   "metadata": {},
   "source": [
    "- Relative efficiency: of an unbiased point estimate $\\hat{\\theta}_1$ to another $\\hat{\\theta}_2$ \n",
    "\\begin{equation}\n",
    "    \\frac{Var(\\hat{\\theta}_2)}{Var(\\hat{\\theta}_1)}\n",
    "\\end{equation}"
   ]
  },
  {
   "cell_type": "markdown",
   "metadata": {},
   "source": [
    "### Mean squared error (MSE)"
   ]
  },
  {
   "cell_type": "markdown",
   "metadata": {},
   "source": [
    "\\begin{equation}\n",
    "    MSE(\\hat{\\theta}) = E( \\hat{\\theta} - \\theta) ^2\n",
    "\\end{equation}\n",
    "- Alternative form: \n",
    "\\begin{equation}\n",
    "    MSE(\\hat{\\theta}) = Var( \\hat{\\theta}) + bias^2 (\\hat{ \\theta })\n",
    "\\end{equation}"
   ]
  },
  {
   "cell_type": "markdown",
   "metadata": {},
   "source": [
    "## Sample Proportion"
   ]
  },
  {
   "cell_type": "markdown",
   "metadata": {},
   "source": [
    "### Sample Proportion"
   ]
  },
  {
   "cell_type": "markdown",
   "metadata": {},
   "source": [
    "- If $X \\sim B(n,p)$ then the sample proportion $\\hat{p} = \\frac{X}{n}$ has approximately the distribution $N(p, \\frac{p(1-p)}{n})$\n",
    "- Standard error of $\\hat{p}$:\n",
    "\\begin{equation}\n",
    "    s.e.(\\hat{p}) = \\sqrt{ \\frac {p(1-p)}{n}}\n",
    "\\end{equation}\n",
    "When $n$ is large, then $s.e.(\\hat{p})$ is approximated by $\\sqrt{ \\frac{ \\hat{p} (1 - \\hat{p} )}{n}}$."
   ]
  },
  {
   "cell_type": "markdown",
   "metadata": {},
   "source": [
    "### Sample Mean"
   ]
  },
  {
   "cell_type": "markdown",
   "metadata": {},
   "source": [
    "- Distribution of sample mean: given $X_1, \\cdots, X_n$ a random sample from a distribution with mean $\\mu$ and variance $\\sigma ^2$, the centra limit theorem says:\n",
    "\\begin{equation}\n",
    "    \\bar{X} \\sim N \\left( \\mu, \\frac{\\sigma^2}{n} \\right) \\text{ for large } n\n",
    "\\end{equation}"
   ]
  },
  {
   "cell_type": "markdown",
   "metadata": {},
   "source": [
    "- Standard error of the sample mean: $s.e.(\\bar{X}) = \\frac{\\sigma}{\\sqrt{n}}$\n",
    "- When $\\sigma$ is unknown and $n$ is large, then the standard error is approximated by $\\frac{s}{\\sqrt{n}}$"
   ]
  },
  {
   "cell_type": "markdown",
   "metadata": {},
   "source": [
    "### Sample Variance"
   ]
  },
  {
   "cell_type": "markdown",
   "metadata": {},
   "source": [
    "- Distribution of sample variance: given $X_1, \\cdots, X_n$ a random sample from $N( \\mu, \\sigma^2)$, then:\n",
    "\\begin{equation}\n",
    "    \\frac{(n-1) S^2}{\\sigma^2} \\sim \\chi _{n-1}^2\n",
    "\\end{equation}"
   ]
  },
  {
   "cell_type": "markdown",
   "metadata": {},
   "source": [
    "- t-statistics: given $X_1, \\cdots, X_n$ a random sample from $N( \\mu, \\sigma^2)$, then\n",
    "\\begin{equation}\n",
    "    T = \\frac{\\sqrt{n}( \\bar{X} - \\mu) }{S} \\sim t_{n-1}\n",
    "\\end{equation}"
   ]
  },
  {
   "cell_type": "markdown",
   "metadata": {},
   "source": [
    "## Constructing Parameter Estimates"
   ]
  },
  {
   "cell_type": "markdown",
   "metadata": {},
   "source": [
    "### The Methods of Moments"
   ]
  },
  {
   "cell_type": "markdown",
   "metadata": {},
   "source": [
    "- Method of Moments point estimate (MME) for one parameter: given a data set of observations $x_1, \\cdots, x_n$ from a probability distribution depending on one parameter $\\theta$, then the MME$(\\hat{\\theta}) of \\theta$ is found by solving the following equation\n",
    "\\begin{equation}\n",
    "    \\bar{x} = E(X)\n",
    "\\end{equation}"
   ]
  },
  {
   "cell_type": "markdown",
   "metadata": {},
   "source": [
    "- Method of Moments point estimate (MME) for two parameters: the unknown parameters can be found as:\n",
    "\\begin{equation}\n",
    "    \\bar{x} = E(X)\n",
    "\\end{equation}\n",
    "and\n",
    "\\begin{equation}\n",
    "    s^2 = Var(X)\n",
    "\\end{equation}"
   ]
  },
  {
   "cell_type": "markdown",
   "metadata": {},
   "source": [
    "### Maximum Likelihood Estimates"
   ]
  },
  {
   "cell_type": "markdown",
   "metadata": {},
   "source": [
    "- Maximum likelihood estimate for one parameter: given a data set of observations $x_1, \\cdots, x_n$ from a probability distribution $f(x; \\theta)$ then\n",
    "\\begin{equation}\n",
    "    \\text{MLE}(\\hat{\\theta}) = \\max_{\\theta}L(\\theta) = \\max_{\\theta} f(x_1; \\theta) \\times \\cdots \\times f(x_m; \\theta)\n",
    "\\end{equation}\n",
    "where $L(\\theta)$ is the likelihood function"
   ]
  },
  {
   "cell_type": "markdown",
   "metadata": {},
   "source": [
    "- Maximum likelihood estimate for two parameters: $\\theta_1$ and $\\theta_2$ are the values of the parameters at which the likelihood function is maximized "
   ]
  },
  {
   "cell_type": "markdown",
   "metadata": {},
   "source": [
    "### MLE for $U(0, \\Theta)$"
   ]
  },
  {
   "cell_type": "markdown",
   "metadata": {},
   "source": [
    "- For some distribution, the MLE may not be found by differentiation and we should look at the curve of the likelihood function itself\n",
    "- MLE of $\\theta = \\max \\{ X_1, \\cdots, X_n \\}$"
   ]
  }
 ],
 "metadata": {
  "kernelspec": {
   "display_name": "Python 3 (ipykernel)",
   "language": "python",
   "name": "python3"
  },
  "language_info": {
   "codemirror_mode": {
    "name": "ipython",
    "version": 3
   },
   "file_extension": ".py",
   "mimetype": "text/x-python",
   "name": "python",
   "nbconvert_exporter": "python",
   "pygments_lexer": "ipython3",
   "version": "3.9.12"
  },
  "toc-autonumbering": true
 },
 "nbformat": 4,
 "nbformat_minor": 4
}
