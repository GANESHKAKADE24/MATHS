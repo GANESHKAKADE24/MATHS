{
 "cells": [
  {
   "cell_type": "code",
   "execution_count": 2,
   "metadata": {},
   "outputs": [],
   "source": [
    "# Useful libraries\n",
    "import numpy as np\n",
    "import pandas as pd\n",
    "import matplotlib.pyplot as plt\n",
    "from scipy import stats\n",
    "import statsmodels.stats.weightstats as sms\n",
    "from scipy.stats import t\n",
    "from scipy.stats import norm\n",
    "import math\n",
    "from IPython.display import Math, display"
   ]
  },
  {
   "cell_type": "markdown",
   "metadata": {},
   "source": [
    "# Comparing Two Population Means"
   ]
  },
  {
   "cell_type": "markdown",
   "metadata": {},
   "source": [
    "## Introduction"
   ]
  },
  {
   "cell_type": "markdown",
   "metadata": {},
   "source": [
    "### Two Sample Problems\n",
    "Suppose we have:\n",
    "- Set of data observations $x_1, \\dots, x_n$ from a population A with cumulative dist. $F_A(x)$\n",
    "- Set of data observations $y_1, \\dots, y_m$ from a population B with cumulative dist. $F_B(x)$\n",
    "\n",
    "$\\Longrightarrow$ goal: compare the means $\\mu_A$ and $\\mu_B$"
   ]
  },
  {
   "cell_type": "markdown",
   "metadata": {},
   "source": [
    "### Common practices\n",
    "For avoiding biases, we can use:\n",
    "- Randomization\n",
    "- Placebo, blind and double blind experiments"
   ]
  },
  {
   "cell_type": "markdown",
   "metadata": {},
   "source": [
    "### Testing\n",
    "Consider testing $H_0: \\mu = \\mu_0$ versus $H_A: \\mu \\neq \\mu_0$\n",
    "\n",
    "$\\Longrightarrow$ the $p$-value can be found in the same way as for one-sample problems"
   ]
  },
  {
   "cell_type": "markdown",
   "metadata": {},
   "source": [
    "### Paired Samples Versus Independent Samples\n",
    "- Data from paired samples are of the form $(x_1, y_1), (x_2, y_2), \\dots, x_n, y_n)$ from each $n$ experimental subjects (i.e. test heart rate reduction in each patient)\n",
    "- Blocking: keep out all unwanted influences\n",
    "- Comparison is done via the pairwise differences $z_i = x_i - y_i, 1 \\leq i \\leq n$"
   ]
  },
  {
   "cell_type": "markdown",
   "metadata": {},
   "source": [
    "## Analysis of Paired Samples\n"
   ]
  },
  {
   "cell_type": "markdown",
   "metadata": {},
   "source": [
    "### Methodology\n",
    "- Data: $(x_1, y_1), (x_2, y_2), \\dots, x_n, y_n)$ $\\Longrightarrow z_i = x_i - y_i, 1 \\leq i \\leq n$\n",
    "- $x_i = \\mu_A + \\gamma_i + \\epsilon_I^A$\n",
    "- $y_i = \\mu_B + \\gamma_i + \\epsilon_I^B$\n",
    "\n",
    "where $\\mu_A$ (or $\\mu_B$) are the effects of the treatments A or B, $\\gamma_i$ effects by subject I, $\\epsilon_i^A \\sim N(0, \\sigma^2_A)$ are measurement errors for subject I under treatment i.e. A (similarly for B)\n",
    "\n",
    "- $\\Longrightarrow z_i = \\mu_A - \\mu_B + \\epsilon_i^{AB}$ are observations from a distribution with mean $\\mu = \\mu_A - \\mu_B$"
   ]
  },
  {
   "cell_type": "code",
   "execution_count": 3,
   "metadata": {},
   "outputs": [
    {
     "name": "stdout",
     "output_type": "stream",
     "text": [
      "Confidence Interval\t(0.1796, 2.5704)\n",
      "P-Value\t\t\t0.0329\n"
     ]
    }
   ],
   "source": [
    "# Confidence Interval\n",
    "\n",
    "# Input\n",
    "sample_a = np.array([23.6, 27.9, 22.9, 21.8, 25.8, 30.7, 26.5, 25.4])\n",
    "sample_b = np.array([22.5, 25.6, 24.0, 20.4, 26.0, 26.6, 26.4, 22.1])\n",
    "alpha = 0.1\n",
    "\n",
    "# Calculate\n",
    "n = len(sample_a)\n",
    "z = sample_a - sample_b\n",
    "z_bar = z.mean()\n",
    "z_std = z.std(ddof=1)\n",
    "\n",
    "t = stats.t.ppf(1 - alpha / 2, n - 1)\n",
    "wing = t * z_std / math.sqrt(n)\n",
    "\n",
    "t_stats = math.sqrt(n) * (z_bar - 0) / z_std\n",
    "p_value = stats.t.sf(t_stats, n-1)\n",
    "\n",
    "# Output\n",
    "print('Confidence Interval\\t({:.4f}, {:.4f})'.format(z_bar - wing, z_bar + wing))\n",
    "print('P-Value\\t\\t\\t{:.4f}'.format(p_value))"
   ]
  },
  {
   "cell_type": "code",
   "execution_count": 57,
   "metadata": {},
   "outputs": [
    {
     "name": "stdout",
     "output_type": "stream",
     "text": [
      "Mean = 1.3750\n",
      "Standard deviation = 1.7847\n",
      "t-statistics: 2.1792\n",
      "p-value = 0.0329\n"
     ]
    }
   ],
   "source": [
    "# Parameter\n",
    "data_A = np.array([23.6, 27.9, 22.9, 21.8, 25.8, 30.7, 26.5, 25.4])\n",
    "data_B = np.array([22.5, 25.6, 24.0, 20.4, 26.0, 26.6, 26.4, 22.1])\n",
    "z = data_A - data_B\n",
    "\n",
    "# Mean\n",
    "z_bar = z.mean(); s = z.std(ddof=1) # Same as pandas\n",
    "print('Mean = {:.4f}\\nStandard deviation = {:.4f}'.format(z_bar, s))\n",
    "\n",
    "\"\"\" We test\n",
    "$H_0 : \\mu \\leq 0$\n",
    "$H_A : \\mu > 0$ \"\"\"\n",
    "n = len(z)\n",
    "mu = 0\n",
    "t_stat = math.sqrt(n)*(z_bar - mu)/s\n",
    "print('t-statistics: {:.4f}'.format(t_stat))\n",
    "print((\"p-value = {:.4f}\".format(t.sf(t_stat, n-1))))"
   ]
  },
  {
   "cell_type": "markdown",
   "metadata": {},
   "source": [
    "## Analysis of Independent Samples"
   ]
  },
  {
   "cell_type": "markdown",
   "metadata": {},
   "source": [
    "|    Population          | Samples                | Size | Mean          | Standard deviation |\n",
    "|--------------|------------------------|------|---------------|--------------------|\n",
    "| Population A | $$x_1, x_2,\\dots, x_n$$ | n    | $\\overline x$ | $s_x$              |\n",
    "| Population B | $$y_1, y_2,\\dots, y_m$$ | m    | $\\overline y$ | $s_y$              |"
   ]
  },
  {
   "cell_type": "markdown",
   "metadata": {},
   "source": [
    "Point estimate $\\mu_A - \\mu_B = \\overline x - \\overline y$\n",
    "Standard error $se(\\overline x - \\overline y) = \\sqrt{\\frac{\\sigma^2_A}{n} + \\frac{\\sigma^2_B}{m}}$\n",
    "\n",
    "Assume $\\sigma_A^2$ and $\\sigma_B^2$ are unknown. Then we have:\n",
    "- General procedure:\n",
    "$$se(\\overline x - \\overline y) = \\sqrt{\\frac{s^2_x}{n} + \\frac{s^2_x}{m}}$$\n",
    "- Pooled variance procedure:\n",
    "$$se(\\overline x - \\overline y) = s_p \\sqrt{\\frac{1}{n} + \\frac{1}{m}}$$\n",
    "where $s_p^2 = \\frac{(n-1)s_x^2 + (m-1) s_y^2}{n+m-2}$\n",
    "- When the variances are known, we use a two-sample z-test."
   ]
  },
  {
   "cell_type": "markdown",
   "metadata": {},
   "source": [
    "### General Procedure (Smith-Satterthwaite test)\n",
    "- We use the statistics\n",
    "$$T = \\frac{ \\bar{x} - \\bar{y} - (\\mu_A - \\mu_B)}{\\sqrt{\\frac{s_x^2}{n} + \\frac{s_y^2}{m}}}$$\n",
    "\n",
    "- This statistic follows approximately t-distribution with the d.f. $\\nu$  as the\n",
    "largest integer not larger than\n",
    "$$v^* = \\frac{ (s_x^2 / n + s_y^2 /m ) ^2}{ s_x^4/ n^2(n-1) + s_y^4 / m^2(m-1) }$$\n",
    "\n",
    "- Two sided $1-\\alpha$ level of confidence iunterval for $\\mu_A - \\mu_B$ is given by\n",
    "$$\\overline x - \\overline y \\pm t_{\\alpha/2, \\nu} \\sqrt{\\frac{s_x^2}{n} + \\frac{s_y^2}{m}}$$\n"
   ]
  },
  {
   "cell_type": "markdown",
   "metadata": {},
   "source": [
    "|    Population          | Samples                | Size | Mean          | Standard deviation |\n",
    "|--------------|------------------------|------|---------------|--------------------|\n",
    "| Population A | $$x_1, x_2,\\dots, x_n$$ | n    | $\\overline x$ | $s_x$              |\n",
    "| Population B | $$y_1, y_2,\\dots, y_m$$ | m    | $\\overline y$ | $s_y$              |"
   ]
  },
  {
   "cell_type": "markdown",
   "metadata": {},
   "source": [
    "Point estimate:\n",
    "\n",
    "$\\mu_A - \\mu_B = \\overline x - \\overline y$\n",
    "\n",
    "$se(\\overline x - \\overline y) = \\sqrt{\\frac{s^2_x}{n} + \\frac{s^2_x}{m}}$\n",
    "\n",
    "$se(\\overline x - \\overline y) = s_p \\sqrt{\\frac{1}{n} + \\frac{1}{m}}$\n",
    "\n",
    "where $s_p^2 = \\frac{(n-1)s_x^2 + (m-1) s_y^2}{n+m-2}$\n",
    "\n",
    "Two-sided $1-\\alpha$ level confidence interval for $\\mu_A-\\mu_B$ is:\n",
    "\n",
    "$$(\\bar{x} - \\bar{y} - t_{\\alpha/2, v}\\sqrt{\\frac{s_x^2}{n}+\\frac{s_y^2}{m}}, \\bar{x} - \\bar{y} + t_{\\alpha/2, v}\\sqrt{\\frac{s_x^2}{n}+\\frac{s_y^2}{m}})$$\n",
    "\n",
    "Where the degree of freedom:\n",
    "\n",
    "$$v^* = \\frac{ (s_x^2 / n + s_y^2 /m ) ^2}{ s_x^4/ n^2(n-1) + s_y^4 / m^2(m-1) }$$\n",
    "\n",
    "For $P-Value$ of $H_0:\\mu_A - \\mu_B = \\delta.versus.H_A:\\mu_A-\\mu_B\\ne\\delta$:\n",
    "\n",
    "$$T = \\frac{( \\bar{x} - \\bar{y} - \\delta)}{\\sqrt{\\frac{s_x^2}{n} + \\frac{s_y^2}{m}}}$$"
   ]
  },
  {
   "cell_type": "code",
   "execution_count": 10,
   "metadata": {},
   "outputs": [
    {
     "data": {
      "text/latex": [
       "$\\displaystyle v = 25$"
      ],
      "text/plain": [
       "<IPython.core.display.Math object>"
      ]
     },
     "metadata": {},
     "output_type": "display_data"
    },
    {
     "name": "stdout",
     "output_type": "stream",
     "text": [
      "Confidence interval with 99.00% confidence level: (-14.0440)(-3.9560)\n"
     ]
    }
   ],
   "source": [
    "# Population A\n",
    "n = 14; x_bar = 32.45; s_x = 4.30\n",
    "\n",
    "# Population B\n",
    "m = 14; y_bar = 41.45; s_y = 5.23\n",
    "\n",
    "alpha = 0.01 # = 1 - confidence level\n",
    "\n",
    "def degrees_of_freedom(n, m, s_x, s_y):\n",
    "    nu =  ((s_x**2/n + s_y**2/m)**2) / ( s_x**4 / (n**2*(n-1)) + s_y**4 / (m**2*(m-1)))\n",
    "    return math.floor(nu)\n",
    "\n",
    "def wing_span(alpha, nu, n, m, s_x, s_y):\n",
    "    return stats.t.ppf(1-alpha/2, nu) * math.sqrt( s_x**2/n + s_y**2/m)\n",
    "\n",
    "def print_confidence_interval(alpha, mu, wing_span):\n",
    "    print((\"Confidence interval with {:.2f}% confidence level: ({:.4f})({:.4f})\").format(((1-alpha)*100), mu - wing_span, mu + wing_span))\n",
    "\n",
    "# Calculations\n",
    "diff = x_bar - y_bar\n",
    "nu = degrees_of_freedom( n, m, s_x, s_y)\n",
    "wing_span = wing_span(alpha, nu, n, m, s_x, s_y)\n",
    "display(Math('v = {}'.format(nu)))\n",
    "print_confidence_interval(alpha, diff, wing_span)"
   ]
  },
  {
   "cell_type": "code",
   "execution_count": 11,
   "metadata": {},
   "outputs": [
    {
     "name": "stdout",
     "output_type": "stream",
     "text": [
      "Confidence Interval\t(-14.0430, -3.9570)\n"
     ]
    }
   ],
   "source": [
    "# Calcualte confidence interval\n",
    "\n",
    "# Input\n",
    "n = 14\n",
    "m = 14\n",
    "\n",
    "x_bar = 32.45\n",
    "y_bar = 41.45\n",
    "\n",
    "s_x = 4.3\n",
    "s_y = 5.23\n",
    "\n",
    "alpha = 0.01\n",
    "\n",
    "# Calculate\n",
    "v = (s_x ** 2 / n + s_y ** 2 / m) ** 2 / (s_x ** 4 / (n ** 2 * (n - 1)) + s_y ** 4 / (m ** 2 * (m - 1)))\n",
    "t = stats.t.ppf(1 - alpha / 2, v)\n",
    "\n",
    "wing = t * math.sqrt(s_x ** 2 / n + s_y ** 2 / m)\n",
    "\n",
    "# Output\n",
    "print('Confidence Interval\\t({:.4f}, {:.4f})'.format(x_bar - y_bar - wing, x_bar - y_bar + wing))"
   ]
  },
  {
   "cell_type": "code",
   "execution_count": 12,
   "metadata": {},
   "outputs": [
    {
     "name": "stdout",
     "output_type": "stream",
     "text": [
      "|t|\t4.9736\n",
      "P-Value\t0.0000\n"
     ]
    }
   ],
   "source": [
    "# Calculate P-Value\n",
    "\n",
    "# Input\n",
    "n = 14\n",
    "m = 14\n",
    "\n",
    "x_bar = 32.45\n",
    "y_bar = 41.45\n",
    "\n",
    "s_x = 4.3\n",
    "s_y = 5.23\n",
    "\n",
    "delta = 0\n",
    "\n",
    "# Calculate\n",
    "v = (s_x ** 2 / n + s_y ** 2 / m) ** 2 / (s_x ** 4 / (n ** 2 * (n - 1)) + s_y ** 4 / (m ** 2 * (m - 1)))\n",
    "t =  (x_bar - y_bar - delta) / math.sqrt(s_x ** 2 / n + s_y ** 2 / m)\n",
    "p_value = 2 * stats.t.sf(abs(t), v)\n",
    "\n",
    "# Output\n",
    "print('|t|\\t{:.4f}'.format(abs(t)))\n",
    "print('P-Value\\t{:.4f}'.format(p_value))"
   ]
  },
  {
   "cell_type": "markdown",
   "metadata": {},
   "source": [
    "- For testing $H_0: \\mu_A - \\mu_B = \\delta$ vs $H_A: \\mu_A - \\mu_B \\neq \\delta$ the t-statistic is\n",
    "$$T = \\frac{( \\bar{x} - \\bar{y} - \\delta)}{\\sqrt{\\frac{s_x^2}{n} + \\frac{s_y^2}{m}}}$$"
   ]
  },
  {
   "cell_type": "code",
   "execution_count": 14,
   "metadata": {},
   "outputs": [
    {
     "name": "stdout",
     "output_type": "stream",
     "text": [
      "|t| value: 4.9736 \n",
      "Critical point: 2.7787\n"
     ]
    }
   ],
   "source": [
    "\"\"\"Hypotheses:\n",
    "- $H_0 : \\mu_A = \\mu_B$\n",
    "- $H_A : \\mu_A \\neq \\mu_B$\"\"\"\n",
    "\n",
    "# Calculate the t-statistics general\n",
    "def T_statistic_general(x_bar, y_bar, s_x, s_y, n, m, delta= 0):\n",
    "    return ( (x_bar - y_bar - delta)  / math.sqrt(s_x**2/n + s_y**2/m))\n",
    "\n",
    "t_stat = T_statistic_general(x_bar, y_bar, s_x, s_y, n, m, delta= 0)\n",
    "print(\"|t| value: {:.4f} \".format(abs(t_stat)))\n",
    "print(\"Critical point: {:.4f}\".format(stats.t.ppf(1- alpha/2, n + m -2 )))"
   ]
  },
  {
   "cell_type": "markdown",
   "metadata": {},
   "source": [
    "### Pooled Variance Procedure\n",
    "- Assume $\\sigma_A^2 = \\sigma_B^2 = \\sigma^2$\n",
    "\n",
    "- Unbiased estimate of $\\hat{\\sigma}^2$ of $\\sigma^2$ is given by:\n",
    "$$s_p^2 = \\frac{(n-1)s_x^2 + (m-1) s_y^2}{n+m-2}$$\n",
    "\n",
    "- t-statistics becomes\n",
    "$$T = \\frac{ \\overline x - \\overline y - (\\mu_A  - \\mu_B)}{s_p \\sqrt{\\frac{1}{n} + \\frac{1}{m}} } \\sim t_{n+m-2}$$\n",
    "\n",
    "- A two-sided $1-\\alpha$ level confidence interval for $\\mu_A - \\mu_B$ is given by the end-points\n",
    "$$\\overline x - \\overline y \\pm t_{\\alpha/2, n+m-2} s_p \\sqrt{ \\frac{1}{n} + \\frac{1}{m} }$$"
   ]
  },
  {
   "cell_type": "code",
   "execution_count": 17,
   "metadata": {},
   "outputs": [
    {
     "name": "stdout",
     "output_type": "stream",
     "text": [
      "Confidence interval with 99.00% confidence level: (-14.0282)(-3.9718)\n"
     ]
    }
   ],
   "source": [
    "# Population A\n",
    "n = 14; x_bar = 32.45; s_x = 4.30\n",
    "\n",
    "# Population B\n",
    "m = 14; y_bar = 41.45; s_y = 5.23\n",
    "\n",
    "alpha = 0.01 # = 1 - confidence level\n",
    "\n",
    "# Pooled variance\n",
    "def pooled_variance(n, m, s_x, s_y):\n",
    "    return ( ((n-1)*s_x**2 + (m-1)*s_y**2) / (n+m-2))\n",
    "\n",
    "def wing_span(s_p, n, m, alpha):\n",
    "    return stats.t.ppf(1-alpha/2, n+m-2) * s_p*math.sqrt(1/n + 1/m)\n",
    "\n",
    "def print_confidence_interval(alpha, mu, wing_span):\n",
    "    print((\"Confidence interval with {:.2f}% confidence level: ({:.4f})({:.4f})\").format(((1-alpha)*100), mu - wing_span, mu + wing_span))\n",
    "    \n",
    "diff = x_bar - y_bar\n",
    "s_p = math.sqrt(pooled_variance(n, m, s_x, s_y))\n",
    "wing_span = wing_span(s_p, n, m, alpha)\n",
    "print_confidence_interval(alpha, diff, wing_span)"
   ]
  },
  {
   "cell_type": "code",
   "execution_count": 19,
   "metadata": {},
   "outputs": [
    {
     "name": "stdout",
     "output_type": "stream",
     "text": [
      "Confidence Interval\t(-14.0282, -3.9718)\n"
     ]
    }
   ],
   "source": [
    "# Calcualte confidence interval\n",
    "\n",
    "# Input\n",
    "n = 14\n",
    "m = 14\n",
    "\n",
    "x_bar = 32.45\n",
    "y_bar = 41.45\n",
    "\n",
    "s_x = 4.3\n",
    "s_y = 5.23\n",
    "\n",
    "alpha = 0.01\n",
    "\n",
    "# Calculate\n",
    "sp_square = ((n - 1) * s_x ** 2 + (m - 1) * s_y ** 2) / (n + m - 2)\n",
    "t = stats.t.ppf(1 - alpha / 2, m + n - 2)\n",
    "\n",
    "wing = t * math.sqrt(sp_square) * math.sqrt(1 / n + 1 / m)\n",
    "\n",
    "# Output\n",
    "print('Confidence Interval\\t({:.4f}, {:.4f})'.format(x_bar - y_bar - wing, x_bar - y_bar + wing))"
   ]
  },
  {
   "cell_type": "code",
   "execution_count": 20,
   "metadata": {},
   "outputs": [
    {
     "name": "stdout",
     "output_type": "stream",
     "text": [
      "|t|\t4.9736\n",
      "P-Value\t0.0000\n"
     ]
    }
   ],
   "source": [
    "# Calculate P-Value\n",
    "\n",
    "# Input\n",
    "n = 14\n",
    "m = 14\n",
    "\n",
    "x_bar = 32.45\n",
    "y_bar = 41.45\n",
    "\n",
    "s_x = 4.3\n",
    "s_y = 5.23\n",
    "\n",
    "delta = 0\n",
    "\n",
    "# Calculate\n",
    "sp_square = ((n - 1) * s_x ** 2 + (m - 1) * s_y ** 2) / (n + m - 2)\n",
    "t =  (x_bar - y_bar - delta) / (math.sqrt(sp_square) * math.sqrt(1 / n + 1 / m))\n",
    "p_value = 2 * stats.t.sf(abs(t), n + m - 2)\n",
    "\n",
    "# Output\n",
    "print('|t|\\t{:.4f}'.format(abs(t)))\n",
    "print('P-Value\\t{:.4f}'.format(p_value))"
   ]
  },
  {
   "cell_type": "markdown",
   "metadata": {},
   "source": [
    "- For testing $H_0: \\mu_A - \\mu_B = \\delta$ vs $H_A: \\mu_A - \\mu_B \\neq \\delta$ the t-statistic is\n",
    "$$T = \\frac{( \\bar{x} - \\bar{y} - \\delta)}{s_p \\sqrt{\\frac{1}{n} + \\frac{1}{m}}}$$"
   ]
  },
  {
   "cell_type": "code",
   "execution_count": 18,
   "metadata": {},
   "outputs": [
    {
     "name": "stdout",
     "output_type": "stream",
     "text": [
      "|t| value: 4.9736 \n",
      "Critical point: 2.7787\n"
     ]
    }
   ],
   "source": [
    "\"\"\"Hypotheses:\n",
    "- $H_0 : \\mu_A = \\mu_B$\n",
    "- $H_A : \\mu_A \\neq \\mu_B$\"\"\"\n",
    "\n",
    "# Calculate the t-statistics\n",
    "def T_statistic_pooled(x_bar, y_bar, s_p, n, m, delta= 0):\n",
    "    return ( (x_bar - y_bar - delta)  / (s_p * math.sqrt(1/n + 1/m)))\n",
    "\n",
    "t_stat = T_statistic_pooled(x_bar, y_bar, s_p, n, m, delta= 0)\n",
    "print(\"|t| value: {:.4f} \".format(abs(t_stat)))\n",
    "print(\"Critical point: {:.4f}\".format(stats.t.ppf(1- alpha/2, n + m -2 )))"
   ]
  },
  {
   "cell_type": "markdown",
   "metadata": {},
   "source": [
    "### z-Procedure\n",
    "- When the population variances are known for the two samples, we can\n",
    "use a z-statistic instead of a t-statistic.\n",
    "\n",
    "- A two-sided 1 − α level confidence interval for $\\mu_A - \\mu_B$ is given by\n",
    "the end-points\n",
    "$$\\overline x - \\overline y \\pm z_{\\alpha/2}\\sqrt{ \\frac{\\sigma^2_A}{n} + \\frac{\\sigma^2_B}{m} }$$\n",
    "\n",
    "- For testing $H_0: \\mu_A - \\mu_B = \\delta$ versus $H_A: \\mu_A - \\mu_B \\neq \\delta$ we use\n",
    "$$Z = \\frac{\\overline x - \\overline y - \\delta}{ \\sqrt{ \\frac{\\sigma^2_A}{n} + \\frac{\\sigma^2_B}{m} } } \\sim N(0,1)$$ under $H_0$"
   ]
  },
  {
   "cell_type": "code",
   "execution_count": 21,
   "metadata": {},
   "outputs": [
    {
     "name": "stdout",
     "output_type": "stream",
     "text": [
      "Z-statistics: -1.4590\n",
      "p-value: 0.0723 \n",
      "Confidence interval with 99.00% confidence level: (-∞)(0.3930)\n"
     ]
    }
   ],
   "source": [
    "# Population A\n",
    "n = 38; x_bar = 5.782; sigma_x= 2.0\n",
    "\n",
    "# Population B\n",
    "m = 40; y_bar = 6.443; sigma_y= 2.0\n",
    "\n",
    "alpha = 0.01 # = 1 - confidence level\n",
    "\n",
    "# Calculate the Z-statistics\n",
    "def Z_statistic(x_bar, y_bar, s_x, s_y, n, m, delta = 0):\n",
    "    return ( (x_bar - y_bar - delta)  / math.sqrt(s_x**2/n + s_y**2/m))\n",
    "\n",
    "Z_stat = Z_statistic(x_bar, y_bar, sigma_x, sigma_y, n, m)\n",
    "print(\"Z-statistics: {:.4f}\".format(Z_stat))\n",
    "print(\"p-value: {:.4f} \".format(norm.cdf(Z_stat)))\n",
    "\n",
    "def wing_span(alpha, n, m, s_x, s_y):\n",
    "    return norm.ppf(1-alpha) * math.sqrt( s_x**2/n + s_y**2/m)\n",
    "\n",
    "def print_confidence_interval(alpha, mu, wing_span, lower_bound = False, upper_bound = False):\n",
    "    if upper_bound:\n",
    "        print((\"Confidence interval with {:.2f}% confidence level: (-∞)({:.4f})\").format(((1-alpha)*100), mu + wing_span))\n",
    "        return\n",
    "    if lower_bound:\n",
    "        print((\"Confidence interval with {:.2f}% confidence level: ({:.4f})(∞))\").format(((1-alpha)*100), mu - wing_span))\n",
    "        return\n",
    "    # Default case: double bounded\n",
    "    print((\"Confidence interval with {:.2f}% confidence level: ({:.4f})({:.4f})\").format(((1-alpha)*1, mu - wing_span, mu + wing_span)))\n",
    "\n",
    "\"\"\"Hypotheses:\n",
    "- $H_0 : \\mu_A > \\mu_B$''\n",
    "- $H_A : \\mu_A >= \\mu_B$\"\"\"\n",
    "diff = x_bar - y_bar\n",
    "wing_span = wing_span(alpha, n, m, sigma_x, sigma_y)\n",
    "print_confidence_interval(alpha, diff, wing_span, upper_bound = True)"
   ]
  },
  {
   "cell_type": "code",
   "execution_count": 22,
   "metadata": {},
   "outputs": [
    {
     "name": "stdout",
     "output_type": "stream",
     "text": [
      "Confidence Interval\t(-1.8280, 0.5060)\n"
     ]
    }
   ],
   "source": [
    "# Calcualte confidence interval\n",
    "\n",
    "# Input\n",
    "n = 38\n",
    "m = 40\n",
    "\n",
    "x_bar = 5.782\n",
    "y_bar = 6.443\n",
    "\n",
    "sigma_x = 2\n",
    "sigma_y = 2\n",
    "\n",
    "alpha = 0.01\n",
    "\n",
    "# Calculate\n",
    "z = stats.norm.ppf(1 - alpha / 2)\n",
    "wing = z * math.sqrt(sigma_x ** 2 / n + sigma_y ** 2 / m)\n",
    "\n",
    "# Output\n",
    "print('Confidence Interval\\t({:.4f}, {:.4f})'.format(x_bar - y_bar - wing, x_bar - y_bar + wing))"
   ]
  },
  {
   "cell_type": "code",
   "execution_count": 23,
   "metadata": {},
   "outputs": [
    {
     "name": "stdout",
     "output_type": "stream",
     "text": [
      "P-Value\t0.0723\n"
     ]
    }
   ],
   "source": [
    "# Calculate P-Value\n",
    "\n",
    "# Input\n",
    "n = 38\n",
    "m = 40\n",
    "\n",
    "x_bar = 5.782\n",
    "y_bar = 6.443\n",
    "\n",
    "sigma_x = 2\n",
    "sigma_y = 2\n",
    "\n",
    "delta = 0\n",
    "\n",
    "# Calculate\n",
    "z = (x_bar - y_bar - delta) / math.sqrt(sigma_x ** 2 / n + sigma_y ** 2 / m)\n",
    "p_value = stats.norm.cdf(z)\n",
    "\n",
    "# Output\n",
    "print('P-Value\\t{:.4f}'.format(p_value))"
   ]
  },
  {
   "cell_type": "markdown",
   "metadata": {},
   "source": [
    "### Interval length\n",
    "- The interval length (suppose we are using the general procedure) is:\n",
    "$$L = 2 \\times t_{\\alpha / 2, \\nu}  \\sqrt{ \\frac{s_A^2}{n} + \\frac{s_B^2}{m}}$$\n",
    "\n",
    "- Then the minimum number of samples  will be (supposing n = m)\n",
    "$$n = m \\geq \\frac{4t_{\\alpha / 2, \\nu} (s^2_A + s^2_B)}{L_0^2}$$"
   ]
  }
 ],
 "metadata": {
  "kernelspec": {
   "display_name": "Python 3 (ipykernel)",
   "language": "python",
   "name": "python3"
  },
  "language_info": {
   "codemirror_mode": {
    "name": "ipython",
    "version": 3
   },
   "file_extension": ".py",
   "mimetype": "text/x-python",
   "name": "python",
   "nbconvert_exporter": "python",
   "pygments_lexer": "ipython3",
   "version": "3.9.12"
  }
 },
 "nbformat": 4,
 "nbformat_minor": 4
}
